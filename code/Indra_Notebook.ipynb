{
 "cells": [
  {
   "cell_type": "markdown",
   "id": "0386b255",
   "metadata": {},
   "source": [
    "## Machine Learning Capstone Project (Indra Chatterjee)"
   ]
  },
  {
   "cell_type": "markdown",
   "id": "df7fba44",
   "metadata": {},
   "source": [
    "##### Library Imports"
   ]
  },
  {
   "cell_type": "code",
   "execution_count": 1,
   "id": "e013f1f0",
   "metadata": {},
   "outputs": [],
   "source": [
    "import numpy as np\n",
    "import pandas as pd"
   ]
  },
  {
   "cell_type": "markdown",
   "id": "fcaa4141",
   "metadata": {},
   "source": [
    "##### Utility Methods"
   ]
  },
  {
   "cell_type": "code",
   "execution_count": 4,
   "id": "8235f735",
   "metadata": {},
   "outputs": [],
   "source": [
    "#Function to print out shape and size of data set for given patients\n",
    "def printShapeAndSize(houseDataSet):\n",
    "    if houseDataSet is None:\n",
    "        print('Null Data set received : Error')\n",
    "        return\n",
    "    print('Size of Dataset  {}'.format(houseDataSet.size))\n",
    "    print('Shape of Dataset {}'.format(houseDataSet.shape))\n",
    "    print('Data Types :{}'.format(houseDataSet.dtypes))\n",
    "    print('----------------------------------------------------')"
   ]
  },
  {
   "cell_type": "code",
   "execution_count": 5,
   "id": "5bc014bf",
   "metadata": {},
   "outputs": [
    {
     "name": "stdout",
     "output_type": "stream",
     "text": [
      "Size of Dataset  497099\n",
      "Shape of Dataset (21613, 23)\n",
      "Data Types :cid                   int64\n",
      "dayhours             object\n",
      "price                 int64\n",
      "room_bed              int64\n",
      "room_bath           float64\n",
      "living_measure        int64\n",
      "lot_measure           int64\n",
      "ceil                float64\n",
      "coast                 int64\n",
      "sight                 int64\n",
      "condition             int64\n",
      "quality               int64\n",
      "ceil_measure          int64\n",
      "basement              int64\n",
      "yr_built              int64\n",
      "yr_renovated          int64\n",
      "zipcode               int64\n",
      "lat                 float64\n",
      "long                float64\n",
      "living_measure15      int64\n",
      "lot_measure15         int64\n",
      "furnished             int64\n",
      "total_area            int64\n",
      "dtype: object\n",
      "----------------------------------------------------\n"
     ]
    }
   ],
   "source": [
    "#Read the Data file here. \n",
    "housePriceData = pd.read_csv('innercity.csv')\n",
    "printShapeAndSize(housePriceData)"
   ]
  },
  {
   "cell_type": "markdown",
   "id": "cc7d294e",
   "metadata": {},
   "source": [
    "#### Printing the Datatype of the data set it can be observed that, dayhours field is an object type which could lead to null or not a number values. "
   ]
  }
 ],
 "metadata": {
  "kernelspec": {
   "display_name": "Python 3 (ipykernel)",
   "language": "python",
   "name": "python3"
  },
  "language_info": {
   "codemirror_mode": {
    "name": "ipython",
    "version": 3
   },
   "file_extension": ".py",
   "mimetype": "text/x-python",
   "name": "python",
   "nbconvert_exporter": "python",
   "pygments_lexer": "ipython3",
   "version": "3.7.4"
  }
 },
 "nbformat": 4,
 "nbformat_minor": 5
}
