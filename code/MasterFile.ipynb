{
 "cells": [
  {
   "cell_type": "markdown",
   "id": "a4149df5",
   "metadata": {},
   "source": [
    "# Machine Learning Capstone Project (Master Notebook)"
   ]
  },
  {
   "cell_type": "markdown",
   "id": "a8020d29",
   "metadata": {},
   "source": [
    "#### Import of all libraries"
   ]
  },
  {
   "cell_type": "markdown",
   "id": "80e4a7a8",
   "metadata": {},
   "source": [
    "#### Data Loading and Analysis"
   ]
  },
  {
   "cell_type": "markdown",
   "id": "052b8126",
   "metadata": {},
   "source": [
    "#### Data Visualization"
   ]
  },
  {
   "cell_type": "markdown",
   "id": "4ba34f0f",
   "metadata": {},
   "source": [
    "#### Creation of Baseline Model"
   ]
  }
 ],
 "metadata": {
  "kernelspec": {
   "display_name": "Python 3 (ipykernel)",
   "language": "python",
   "name": "python3"
  },
  "language_info": {
   "codemirror_mode": {
    "name": "ipython",
    "version": 3
   },
   "file_extension": ".py",
   "mimetype": "text/x-python",
   "name": "python",
   "nbconvert_exporter": "python",
   "pygments_lexer": "ipython3",
   "version": "3.7.4"
  }
 },
 "nbformat": 4,
 "nbformat_minor": 5
}
